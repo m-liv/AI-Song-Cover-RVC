{
  "nbformat": 4,
  "nbformat_minor": 0,
  "metadata": {
    "colab": {
      "provenance": [],
      "gpuType": "T4",
      "include_colab_link": true
    },
    "kernelspec": {
      "name": "python3",
      "display_name": "Python 3"
    },
    "language_info": {
      "name": "python"
    },
    "accelerator": "GPU",
    "gpuClass": "standard"
  },
  "cells": [
    {
      "cell_type": "markdown",
      "metadata": {
        "id": "view-in-github",
        "colab_type": "text"
      },
      "source": [
        "<a href=\"https://colab.research.google.com/github/m-liv/AI-Song-Cover-RVC/blob/main/Download_Youtube_WAV_and_Splitting_Audio.ipynb\" target=\"_parent\"><img src=\"https://colab.research.google.com/assets/colab-badge.svg\" alt=\"Open In Colab\"/></a>"
      ]
    },
    {
      "cell_type": "code",
      "execution_count": 14,
      "metadata": {
        "id": "xbQ-Jf5ePZbr",
        "colab": {
          "base_uri": "https://localhost:8080/"
        },
        "outputId": "504bf329-d51a-4995-b893-7c9752a4fc88"
      },
      "outputs": [
        {
          "output_type": "stream",
          "name": "stdout",
          "text": [
            "Drive already mounted at /content/drive; to attempt to forcibly remount, call drive.mount(\"/content/drive\", force_remount=True).\n"
          ]
        }
      ],
      "source": [
        "#@title Mount Google Drive\n",
        "\n",
        "from google.colab import drive\n",
        "drive.mount('/content/drive')"
      ]
    },
    {
      "cell_type": "code",
      "source": [
        "#@title Input Form\n",
        "\n",
        "Mode = \"Splitting\" #@param [\"Separate\", \"Splitting\"]\n",
        "dataset = \"Drive\" #@param [\"Youtube\", \"Drive\"]\n",
        "url = \"\" #@param {type:\"string\"}\n",
        "drive_path = \"/content/drive/MyDrive/taylorswift.wav\" #@param {type:\"string\"}\n",
        "AUDIO_NAME = \"taylorswift\" #@param {type:\"string\"}\n"
      ],
      "metadata": {
        "id": "Tf9MUvvfPt8v"
      },
      "execution_count": 15,
      "outputs": []
    },
    {
      "cell_type": "markdown",
      "source": [
        "Notes:\n",
        "*  This part of the process takes an audio sample (audio file or Youtube link) of the voice for which you want to make a model.\n",
        "* It is recommended that you choose an audio sample that is > 5 minutes in duration, with only the desired voice in the sample. Minimal background music is acceptable.  \n",
        "* If using an audio file (.wav) from Google Drive, select Drive from the dataset dropdown menu. Leave url field blank. In drive_path, enter the file path that leads to the desired audio file location in Google Drive. In AUDIO_NAME field, enter the exact name of the audio file, excluding the .wav extension.\n",
        "*   If using a link to a Youtube video, select Youtube from the dataset dropdown menu. In url field, enter desired url. Leave drive_path field blank. In AUDIO_NAME, enter desired folder name under which save the audio in Google Drive. Do not include spaces in the folder name.\n",
        "* This will split your\n",
        "\n",
        "\n",
        "\n"
      ],
      "metadata": {
        "id": "-X0ZXSU80ezX"
      }
    },
    {
      "cell_type": "code",
      "source": [
        "#@title 1. Install Library for Youtube WAV Download\n",
        "if dataset == \"Drive\":\n",
        "  print(\"Dataset is set to Drive. Skipping this section\")\n",
        "elif dataset == \"Youtube\":\n",
        "  !pip install yt_dlp\n",
        "  !pip install ffmpeg\n",
        "  !mkdir youtubeaudio"
      ],
      "metadata": {
        "id": "KSYral95Plvb",
        "colab": {
          "base_uri": "https://localhost:8080/"
        },
        "outputId": "ce652125-1262-4c15-b0cb-f92024a85dd8"
      },
      "execution_count": 16,
      "outputs": [
        {
          "output_type": "stream",
          "name": "stdout",
          "text": [
            "Dataset is set to Drive. Skipping this section\n"
          ]
        }
      ]
    },
    {
      "cell_type": "code",
      "source": [
        "#@title Download Youtube WAV\n",
        "from __future__ import unicode_literals\n",
        "\n",
        "if dataset == \"Drive\":\n",
        "  print(\"Dataset is set to Drive. Skipping this section\")\n",
        "elif dataset == \"Youtube\":\n",
        "  import yt_dlp\n",
        "  import ffmpeg\n",
        "  import sys\n",
        "\n",
        "\n",
        "  ydl_opts = {\n",
        "      'format': 'bestaudio/best',\n",
        "  #    'outtmpl': 'output.%(ext)s',\n",
        "      'postprocessors': [{\n",
        "          'key': 'FFmpegExtractAudio',\n",
        "          'preferredcodec': 'wav',\n",
        "      }],\n",
        "      \"outtmpl\": f'youtubeaudio/{AUDIO_NAME}',  # this is where you can edit how you'd like the filenames to be formatted\n",
        "  }\n",
        "  def download_from_url(url):\n",
        "      ydl.download([url])\n",
        "      # stream = ffmpeg.input('output.m4a')\n",
        "      # stream = ffmpeg.output(stream, 'output.wav')\n",
        "\n",
        "\n",
        "  with yt_dlp.YoutubeDL(ydl_opts) as ydl:\n",
        "\n",
        "        download_from_url(url)"
      ],
      "metadata": {
        "id": "RYfXSP_QPoJ2",
        "colab": {
          "base_uri": "https://localhost:8080/"
        },
        "outputId": "425b286b-7404-409f-994a-07d3a9e422b5"
      },
      "execution_count": 17,
      "outputs": [
        {
          "output_type": "stream",
          "name": "stdout",
          "text": [
            "Dataset is set to Drive. Skipping this section\n"
          ]
        }
      ]
    },
    {
      "cell_type": "code",
      "source": [
        "#@title 2. Install Demucs for Separating Audio\n",
        "!python3 -m pip install -U demucs"
      ],
      "metadata": {
        "id": "3fIc2i15SKBN",
        "colab": {
          "base_uri": "https://localhost:8080/"
        },
        "outputId": "180108d9-d640-4fd2-8337-0f5f2bd67f9e"
      },
      "execution_count": 18,
      "outputs": [
        {
          "output_type": "stream",
          "name": "stdout",
          "text": [
            "Requirement already satisfied: demucs in /usr/local/lib/python3.10/dist-packages (4.0.1)\n",
            "Requirement already satisfied: dora-search in /usr/local/lib/python3.10/dist-packages (from demucs) (0.1.12)\n",
            "Requirement already satisfied: einops in /usr/local/lib/python3.10/dist-packages (from demucs) (0.7.0)\n",
            "Requirement already satisfied: julius>=0.2.3 in /usr/local/lib/python3.10/dist-packages (from demucs) (0.2.7)\n",
            "Requirement already satisfied: lameenc>=1.2 in /usr/local/lib/python3.10/dist-packages (from demucs) (1.7.0)\n",
            "Requirement already satisfied: openunmix in /usr/local/lib/python3.10/dist-packages (from demucs) (1.2.1)\n",
            "Requirement already satisfied: pyyaml in /usr/local/lib/python3.10/dist-packages (from demucs) (6.0.1)\n",
            "Requirement already satisfied: torch>=1.8.1 in /usr/local/lib/python3.10/dist-packages (from demucs) (2.1.0+cu121)\n",
            "Requirement already satisfied: torchaudio>=0.8 in /usr/local/lib/python3.10/dist-packages (from demucs) (2.1.0+cu121)\n",
            "Requirement already satisfied: tqdm in /usr/local/lib/python3.10/dist-packages (from demucs) (4.66.1)\n",
            "Requirement already satisfied: filelock in /usr/local/lib/python3.10/dist-packages (from torch>=1.8.1->demucs) (3.13.1)\n",
            "Requirement already satisfied: typing-extensions in /usr/local/lib/python3.10/dist-packages (from torch>=1.8.1->demucs) (4.5.0)\n",
            "Requirement already satisfied: sympy in /usr/local/lib/python3.10/dist-packages (from torch>=1.8.1->demucs) (1.12)\n",
            "Requirement already satisfied: networkx in /usr/local/lib/python3.10/dist-packages (from torch>=1.8.1->demucs) (3.2.1)\n",
            "Requirement already satisfied: jinja2 in /usr/local/lib/python3.10/dist-packages (from torch>=1.8.1->demucs) (3.1.2)\n",
            "Requirement already satisfied: fsspec in /usr/local/lib/python3.10/dist-packages (from torch>=1.8.1->demucs) (2023.6.0)\n",
            "Requirement already satisfied: triton==2.1.0 in /usr/local/lib/python3.10/dist-packages (from torch>=1.8.1->demucs) (2.1.0)\n",
            "Requirement already satisfied: omegaconf in /usr/local/lib/python3.10/dist-packages (from dora-search->demucs) (2.3.0)\n",
            "Requirement already satisfied: retrying in /usr/local/lib/python3.10/dist-packages (from dora-search->demucs) (1.3.4)\n",
            "Requirement already satisfied: submitit in /usr/local/lib/python3.10/dist-packages (from dora-search->demucs) (1.5.1)\n",
            "Requirement already satisfied: treetable in /usr/local/lib/python3.10/dist-packages (from dora-search->demucs) (0.2.5)\n",
            "Requirement already satisfied: numpy in /usr/local/lib/python3.10/dist-packages (from openunmix->demucs) (1.23.5)\n",
            "Requirement already satisfied: MarkupSafe>=2.0 in /usr/local/lib/python3.10/dist-packages (from jinja2->torch>=1.8.1->demucs) (2.1.3)\n",
            "Requirement already satisfied: antlr4-python3-runtime==4.9.* in /usr/local/lib/python3.10/dist-packages (from omegaconf->dora-search->demucs) (4.9.3)\n",
            "Requirement already satisfied: six>=1.7.0 in /usr/local/lib/python3.10/dist-packages (from retrying->dora-search->demucs) (1.16.0)\n",
            "Requirement already satisfied: cloudpickle>=1.2.1 in /usr/local/lib/python3.10/dist-packages (from submitit->dora-search->demucs) (2.2.1)\n",
            "Requirement already satisfied: mpmath>=0.19 in /usr/local/lib/python3.10/dist-packages (from sympy->torch>=1.8.1->demucs) (1.3.0)\n"
          ]
        }
      ]
    },
    {
      "cell_type": "code",
      "source": [
        "#@title Separate Vocal and Instrument/Noise using Demucs\n",
        "import subprocess\n",
        "AUDIO_INPUT = f\"/content/youtubeaudio/{AUDIO_NAME}.wav\"\n",
        "\n",
        "if dataset == \"Drive\":\n",
        "  command = f\"demucs --two-stems=vocals {drive_path}\"\n",
        "elif dataset == \"Youtube\":\n",
        "  command = f\"demucs --two-stems=vocals {AUDIO_INPUT}\"\n",
        "\n",
        "result = subprocess.run(command.split(), stdout=subprocess.PIPE)\n",
        "print(result.stdout.decode())"
      ],
      "metadata": {
        "id": "_YS1PLGmSQ40",
        "colab": {
          "base_uri": "https://localhost:8080/"
        },
        "outputId": "4e3d085d-1e69-45b6-d25d-7ef11f7cd720"
      },
      "execution_count": 19,
      "outputs": [
        {
          "output_type": "stream",
          "name": "stdout",
          "text": [
            "\u001b[1mImportant: the default model was recently changed to `htdemucs`\u001b[0m the latest Hybrid Transformer Demucs model. In some cases, this model can actually perform worse than previous models. To get back the old default model use `-n mdx_extra_q`.\n",
            "Selected model is a bag of 1 models. You will see that many progress bars per track.\n",
            "Separated tracks will be stored in /content/separated/htdemucs\n",
            "Separating track /content/drive/MyDrive/taylorswift.wav\n",
            "\n"
          ]
        }
      ]
    },
    {
      "cell_type": "code",
      "source": [
        "!mkdir -p /content/drive/MyDrive/audio/{AUDIO_NAME}\n",
        "!cp -r /content/separated/htdemucs/{AUDIO_NAME}/* /content/drive/MyDrive/audio/{AUDIO_NAME}\n",
        "if dataset == \"Youtube\":\n",
        "  !cp -r /content/youtubeaudio/{AUDIO_NAME}.wav /content/drive/MyDrive/audio/{AUDIO_NAME}\n"
      ],
      "metadata": {
        "id": "iXRfuu9YTUPu"
      },
      "execution_count": 20,
      "outputs": []
    },
    {
      "cell_type": "code",
      "source": [
        "#@title 3. Split The Audio into Smaller Duration Before Training\n",
        "if Mode == \"Separate\":\n",
        "    print(\"Mode is set to Separate. Skipping this section\")\n",
        "elif Mode ==  \"Splitting\":\n",
        "  !pip install numpy\n",
        "  !pip install librosa\n",
        "  !pip install soundfile\n",
        "  !mkdir -p dataset/{AUDIO_NAME}"
      ],
      "metadata": {
        "id": "4z_C02unP5S2",
        "colab": {
          "base_uri": "https://localhost:8080/"
        },
        "outputId": "75223c7e-f707-41a3-a824-d430909a87fe"
      },
      "execution_count": 21,
      "outputs": [
        {
          "output_type": "stream",
          "name": "stdout",
          "text": [
            "Requirement already satisfied: numpy in /usr/local/lib/python3.10/dist-packages (1.23.5)\n",
            "Requirement already satisfied: librosa in /usr/local/lib/python3.10/dist-packages (0.10.1)\n",
            "Requirement already satisfied: audioread>=2.1.9 in /usr/local/lib/python3.10/dist-packages (from librosa) (3.0.1)\n",
            "Requirement already satisfied: numpy!=1.22.0,!=1.22.1,!=1.22.2,>=1.20.3 in /usr/local/lib/python3.10/dist-packages (from librosa) (1.23.5)\n",
            "Requirement already satisfied: scipy>=1.2.0 in /usr/local/lib/python3.10/dist-packages (from librosa) (1.11.4)\n",
            "Requirement already satisfied: scikit-learn>=0.20.0 in /usr/local/lib/python3.10/dist-packages (from librosa) (1.2.2)\n",
            "Requirement already satisfied: joblib>=0.14 in /usr/local/lib/python3.10/dist-packages (from librosa) (1.3.2)\n",
            "Requirement already satisfied: decorator>=4.3.0 in /usr/local/lib/python3.10/dist-packages (from librosa) (4.4.2)\n",
            "Requirement already satisfied: numba>=0.51.0 in /usr/local/lib/python3.10/dist-packages (from librosa) (0.58.1)\n",
            "Requirement already satisfied: soundfile>=0.12.1 in /usr/local/lib/python3.10/dist-packages (from librosa) (0.12.1)\n",
            "Requirement already satisfied: pooch>=1.0 in /usr/local/lib/python3.10/dist-packages (from librosa) (1.8.0)\n",
            "Requirement already satisfied: soxr>=0.3.2 in /usr/local/lib/python3.10/dist-packages (from librosa) (0.3.7)\n",
            "Requirement already satisfied: typing-extensions>=4.1.1 in /usr/local/lib/python3.10/dist-packages (from librosa) (4.5.0)\n",
            "Requirement already satisfied: lazy-loader>=0.1 in /usr/local/lib/python3.10/dist-packages (from librosa) (0.3)\n",
            "Requirement already satisfied: msgpack>=1.0 in /usr/local/lib/python3.10/dist-packages (from librosa) (1.0.7)\n",
            "Requirement already satisfied: llvmlite<0.42,>=0.41.0dev0 in /usr/local/lib/python3.10/dist-packages (from numba>=0.51.0->librosa) (0.41.1)\n",
            "Requirement already satisfied: platformdirs>=2.5.0 in /usr/local/lib/python3.10/dist-packages (from pooch>=1.0->librosa) (4.1.0)\n",
            "Requirement already satisfied: packaging>=20.0 in /usr/local/lib/python3.10/dist-packages (from pooch>=1.0->librosa) (23.2)\n",
            "Requirement already satisfied: requests>=2.19.0 in /usr/local/lib/python3.10/dist-packages (from pooch>=1.0->librosa) (2.31.0)\n",
            "Requirement already satisfied: threadpoolctl>=2.0.0 in /usr/local/lib/python3.10/dist-packages (from scikit-learn>=0.20.0->librosa) (3.2.0)\n",
            "Requirement already satisfied: cffi>=1.0 in /usr/local/lib/python3.10/dist-packages (from soundfile>=0.12.1->librosa) (1.16.0)\n",
            "Requirement already satisfied: pycparser in /usr/local/lib/python3.10/dist-packages (from cffi>=1.0->soundfile>=0.12.1->librosa) (2.21)\n",
            "Requirement already satisfied: charset-normalizer<4,>=2 in /usr/local/lib/python3.10/dist-packages (from requests>=2.19.0->pooch>=1.0->librosa) (3.3.2)\n",
            "Requirement already satisfied: idna<4,>=2.5 in /usr/local/lib/python3.10/dist-packages (from requests>=2.19.0->pooch>=1.0->librosa) (3.6)\n",
            "Requirement already satisfied: urllib3<3,>=1.21.1 in /usr/local/lib/python3.10/dist-packages (from requests>=2.19.0->pooch>=1.0->librosa) (2.0.7)\n",
            "Requirement already satisfied: certifi>=2017.4.17 in /usr/local/lib/python3.10/dist-packages (from requests>=2.19.0->pooch>=1.0->librosa) (2023.11.17)\n",
            "Requirement already satisfied: soundfile in /usr/local/lib/python3.10/dist-packages (0.12.1)\n",
            "Requirement already satisfied: cffi>=1.0 in /usr/local/lib/python3.10/dist-packages (from soundfile) (1.16.0)\n",
            "Requirement already satisfied: pycparser in /usr/local/lib/python3.10/dist-packages (from cffi>=1.0->soundfile) (2.21)\n"
          ]
        }
      ]
    },
    {
      "cell_type": "code",
      "source": [
        "#@title\n",
        "import numpy as np\n",
        "import librosa\n",
        "import soundfile\n",
        "\n",
        "\n",
        "# This function is obtained from librosa.\n",
        "def get_rms(\n",
        "    y,\n",
        "    *,\n",
        "    frame_length=2048,\n",
        "    hop_length=512,\n",
        "    pad_mode=\"constant\",\n",
        "):\n",
        "    padding = (int(frame_length // 2), int(frame_length // 2))\n",
        "    y = np.pad(y, padding, mode=pad_mode)\n",
        "\n",
        "    axis = -1\n",
        "    # put our new within-frame axis at the end for now\n",
        "    out_strides = y.strides + tuple([y.strides[axis]])\n",
        "    # Reduce the shape on the framing axis\n",
        "    x_shape_trimmed = list(y.shape)\n",
        "    x_shape_trimmed[axis] -= frame_length - 1\n",
        "    out_shape = tuple(x_shape_trimmed) + tuple([frame_length])\n",
        "    xw = np.lib.stride_tricks.as_strided(\n",
        "        y, shape=out_shape, strides=out_strides\n",
        "    )\n",
        "    if axis < 0:\n",
        "        target_axis = axis - 1\n",
        "    else:\n",
        "        target_axis = axis + 1\n",
        "    xw = np.moveaxis(xw, -1, target_axis)\n",
        "    # Downsample along the target axis\n",
        "    slices = [slice(None)] * xw.ndim\n",
        "    slices[axis] = slice(0, None, hop_length)\n",
        "    x = xw[tuple(slices)]\n",
        "\n",
        "    # Calculate power\n",
        "    power = np.mean(np.abs(x) ** 2, axis=-2, keepdims=True)\n",
        "\n",
        "    return np.sqrt(power)\n",
        "\n",
        "\n",
        "class Slicer:\n",
        "    def __init__(self,\n",
        "                 sr: int,\n",
        "                 threshold: float = -40.,\n",
        "                 min_length: int = 5000,\n",
        "                 min_interval: int = 300,\n",
        "                 hop_size: int = 20,\n",
        "                 max_sil_kept: int = 5000):\n",
        "        if not min_length >= min_interval >= hop_size:\n",
        "            raise ValueError('The following condition must be satisfied: min_length >= min_interval >= hop_size')\n",
        "        if not max_sil_kept >= hop_size:\n",
        "            raise ValueError('The following condition must be satisfied: max_sil_kept >= hop_size')\n",
        "        min_interval = sr * min_interval / 1000\n",
        "        self.threshold = 10 ** (threshold / 20.)\n",
        "        self.hop_size = round(sr * hop_size / 1000)\n",
        "        self.win_size = min(round(min_interval), 4 * self.hop_size)\n",
        "        self.min_length = round(sr * min_length / 1000 / self.hop_size)\n",
        "        self.min_interval = round(min_interval / self.hop_size)\n",
        "        self.max_sil_kept = round(sr * max_sil_kept / 1000 / self.hop_size)\n",
        "\n",
        "    def _apply_slice(self, waveform, begin, end):\n",
        "        if len(waveform.shape) > 1:\n",
        "            return waveform[:, begin * self.hop_size: min(waveform.shape[1], end * self.hop_size)]\n",
        "        else:\n",
        "            return waveform[begin * self.hop_size: min(waveform.shape[0], end * self.hop_size)]\n",
        "\n",
        "    def slice(self, waveform):\n",
        "        if len(waveform.shape) > 1:\n",
        "            samples = waveform.mean(axis=0)\n",
        "        else:\n",
        "            samples = waveform\n",
        "        if samples.shape[0] <= self.min_length:\n",
        "            return [waveform]\n",
        "        rms_list = get_rms(y=samples, frame_length=self.win_size, hop_length=self.hop_size).squeeze(0)\n",
        "        sil_tags = []\n",
        "        silence_start = None\n",
        "        clip_start = 0\n",
        "        for i, rms in enumerate(rms_list):\n",
        "            # Keep looping while frame is silent.\n",
        "            if rms < self.threshold:\n",
        "                # Record start of silent frames.\n",
        "                if silence_start is None:\n",
        "                    silence_start = i\n",
        "                continue\n",
        "            # Keep looping while frame is not silent and silence start has not been recorded.\n",
        "            if silence_start is None:\n",
        "                continue\n",
        "            # Clear recorded silence start if interval is not enough or clip is too short\n",
        "            is_leading_silence = silence_start == 0 and i > self.max_sil_kept\n",
        "            need_slice_middle = i - silence_start >= self.min_interval and i - clip_start >= self.min_length\n",
        "            if not is_leading_silence and not need_slice_middle:\n",
        "                silence_start = None\n",
        "                continue\n",
        "            # Need slicing. Record the range of silent frames to be removed.\n",
        "            if i - silence_start <= self.max_sil_kept:\n",
        "                pos = rms_list[silence_start: i + 1].argmin() + silence_start\n",
        "                if silence_start == 0:\n",
        "                    sil_tags.append((0, pos))\n",
        "                else:\n",
        "                    sil_tags.append((pos, pos))\n",
        "                clip_start = pos\n",
        "            elif i - silence_start <= self.max_sil_kept * 2:\n",
        "                pos = rms_list[i - self.max_sil_kept: silence_start + self.max_sil_kept + 1].argmin()\n",
        "                pos += i - self.max_sil_kept\n",
        "                pos_l = rms_list[silence_start: silence_start + self.max_sil_kept + 1].argmin() + silence_start\n",
        "                pos_r = rms_list[i - self.max_sil_kept: i + 1].argmin() + i - self.max_sil_kept\n",
        "                if silence_start == 0:\n",
        "                    sil_tags.append((0, pos_r))\n",
        "                    clip_start = pos_r\n",
        "                else:\n",
        "                    sil_tags.append((min(pos_l, pos), max(pos_r, pos)))\n",
        "                    clip_start = max(pos_r, pos)\n",
        "            else:\n",
        "                pos_l = rms_list[silence_start: silence_start + self.max_sil_kept + 1].argmin() + silence_start\n",
        "                pos_r = rms_list[i - self.max_sil_kept: i + 1].argmin() + i - self.max_sil_kept\n",
        "                if silence_start == 0:\n",
        "                    sil_tags.append((0, pos_r))\n",
        "                else:\n",
        "                    sil_tags.append((pos_l, pos_r))\n",
        "                clip_start = pos_r\n",
        "            silence_start = None\n",
        "        # Deal with trailing silence.\n",
        "        total_frames = rms_list.shape[0]\n",
        "        if silence_start is not None and total_frames - silence_start >= self.min_interval:\n",
        "            silence_end = min(total_frames, silence_start + self.max_sil_kept)\n",
        "            pos = rms_list[silence_start: silence_end + 1].argmin() + silence_start\n",
        "            sil_tags.append((pos, total_frames + 1))\n",
        "        # Apply and return slices.\n",
        "        if len(sil_tags) == 0:\n",
        "            return [waveform]\n",
        "        else:\n",
        "            chunks = []\n",
        "            if sil_tags[0][0] > 0:\n",
        "                chunks.append(self._apply_slice(waveform, 0, sil_tags[0][0]))\n",
        "            for i in range(len(sil_tags) - 1):\n",
        "                chunks.append(self._apply_slice(waveform, sil_tags[i][1], sil_tags[i + 1][0]))\n",
        "            if sil_tags[-1][1] < total_frames:\n",
        "                chunks.append(self._apply_slice(waveform, sil_tags[-1][1], total_frames))\n",
        "            return chunks\n",
        "\n",
        "if Mode == \"Separate\":\n",
        "    print(\"Mode is set to Separate. Skipping this section\")\n",
        "\n",
        "elif Mode ==  \"Splitting\":\n",
        "  audio, sr = librosa.load(f'/content/separated/htdemucs/{AUDIO_NAME}/vocals.wav', sr=None, mono=False)  # Load an audio file with librosa.\n",
        "  slicer = Slicer(\n",
        "      sr=sr,\n",
        "      threshold=-40,\n",
        "      min_length=5000,\n",
        "      min_interval=500,\n",
        "      hop_size=10,\n",
        "      max_sil_kept=500\n",
        "  )\n",
        "  chunks = slicer.slice(audio)\n",
        "  for i, chunk in enumerate(chunks):\n",
        "      if len(chunk.shape) > 1:\n",
        "          chunk = chunk.T  # Swap axes if the audio is stereo.\n",
        "      soundfile.write(f'/content/dataset/{AUDIO_NAME}/split_{i}.wav', chunk, sr)  # Save sliced audio files with soundfile."
      ],
      "metadata": {
        "id": "w68iU7zQQYjA"
      },
      "execution_count": 22,
      "outputs": []
    },
    {
      "cell_type": "code",
      "source": [
        "if Mode == \"Separate\":\n",
        "    print(\"Mode is set to Separate. Skipping this section\")\n",
        "elif Mode ==  \"Splitting\":\n",
        "  !mkdir -p /content/drive/MyDrive/dataset/{AUDIO_NAME}\n",
        "  !cp -r /content/dataset/{AUDIO_NAME}/* /content/drive/MyDrive/dataset/{AUDIO_NAME}"
      ],
      "metadata": {
        "id": "U5c8uqCrUE3B"
      },
      "execution_count": 23,
      "outputs": []
    }
  ]
}